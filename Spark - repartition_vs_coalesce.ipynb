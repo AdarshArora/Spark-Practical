{
 "cells": [
  {
   "cell_type": "code",
   "execution_count": 0,
   "metadata": {
    "application/vnd.databricks.v1+cell": {
     "cellMetadata": {
      "byteLimit": 2048000,
      "rowLimit": 10000
     },
     "inputWidgets": {},
     "nuid": "5b9c26b3-278e-4302-b102-6a7e1b52beda",
     "showTitle": false,
     "title": ""
    }
   },
   "outputs": [],
   "source": [
    "from pyspark.sql.functions import *\n",
    "from pyspark.sql.types import *"
   ]
  },
  {
   "cell_type": "code",
   "execution_count": 0,
   "metadata": {
    "application/vnd.databricks.v1+cell": {
     "cellMetadata": {
      "byteLimit": 2048000,
      "rowLimit": 10000
     },
     "inputWidgets": {},
     "nuid": "b222ae6e-f741-4c2b-8db7-1590edd37a00",
     "showTitle": false,
     "title": ""
    }
   },
   "outputs": [
    {
     "output_type": "stream",
     "name": "stdout",
     "output_type": "stream",
     "text": [
      "Out[53]: [FileInfo(path='dbfs:/FileStore/tables/2011_summary.csv', name='2011_summary.csv', size=7069, modificationTime=1702969429000),\n FileInfo(path='dbfs:/FileStore/tables/bad_records/', name='bad_records/', size=0, modificationTime=0),\n FileInfo(path='dbfs:/FileStore/tables/bucket_by_id/', name='bucket_by_id/', size=0, modificationTime=0),\n FileInfo(path='dbfs:/FileStore/tables/corrupted_json.json', name='corrupted_json.json', size=218, modificationTime=1703184986000),\n FileInfo(path='dbfs:/FileStore/tables/csv_Write/', name='csv_Write/', size=0, modificationTime=0),\n FileInfo(path='dbfs:/FileStore/tables/emp_data-1.csv', name='emp_data-1.csv', size=230, modificationTime=1703056833000),\n FileInfo(path='dbfs:/FileStore/tables/emp_data.csv', name='emp_data.csv', size=230, modificationTime=1703056812000),\n FileInfo(path='dbfs:/FileStore/tables/file5.json', name='file5.json', size=669503, modificationTime=1703187988000),\n FileInfo(path='dbfs:/FileStore/tables/lec8.csv', name='lec8.csv', size=443, modificationTime=1704647534000),\n FileInfo(path='dbfs:/FileStore/tables/line_delimited_json.json', name='line_delimited_json.json', size=219, modificationTime=1703184986000),\n FileInfo(path='dbfs:/FileStore/tables/multi_line_correct.json', name='multi_line_correct.json', size=310, modificationTime=1703184986000),\n FileInfo(path='dbfs:/FileStore/tables/multi_line_incorrect.json', name='multi_line_incorrect.json', size=304, modificationTime=1703184986000),\n FileInfo(path='dbfs:/FileStore/tables/partition_by_address/', name='partition_by_address/', size=0, modificationTime=0),\n FileInfo(path='dbfs:/FileStore/tables/partition_by_address_gender/', name='partition_by_address_gender/', size=0, modificationTime=0),\n FileInfo(path='dbfs:/FileStore/tables/single_file_json_extrafields.json', name='single_file_json_extrafields.json', size=232, modificationTime=1703184987000)]"
     ]
    }
   ],
   "source": [
    "dbutils.fs.ls('/FileStore/tables/')"
   ]
  },
  {
   "cell_type": "code",
   "execution_count": 0,
   "metadata": {
    "application/vnd.databricks.v1+cell": {
     "cellMetadata": {
      "byteLimit": 2048000,
      "rowLimit": 10000
     },
     "inputWidgets": {},
     "nuid": "546514e1-0759-40ce-a3a7-d74b2b1bc19e",
     "showTitle": false,
     "title": ""
    }
   },
   "outputs": [
    {
     "output_type": "display_data",
     "data": {
      "text/html": [
       "<style scoped>\n",
       "  .table-result-container {\n",
       "    max-height: 300px;\n",
       "    overflow: auto;\n",
       "  }\n",
       "  table, th, td {\n",
       "    border: 1px solid black;\n",
       "    border-collapse: collapse;\n",
       "  }\n",
       "  th, td {\n",
       "    padding: 5px;\n",
       "  }\n",
       "  th {\n",
       "    text-align: left;\n",
       "  }\n",
       "</style><div class='table-result-container'><table class='table-result'><thead style='background-color: white'><tr><th>path</th><th>name</th><th>size</th><th>modificationTime</th></tr></thead><tbody><tr><td>dbfs:/FileStore/tables/2011_summary.csv</td><td>2011_summary.csv</td><td>7069</td><td>1702969429000</td></tr><tr><td>dbfs:/FileStore/tables/bad_records/</td><td>bad_records/</td><td>0</td><td>0</td></tr><tr><td>dbfs:/FileStore/tables/bucket_by_id/</td><td>bucket_by_id/</td><td>0</td><td>0</td></tr><tr><td>dbfs:/FileStore/tables/corrupted_json.json</td><td>corrupted_json.json</td><td>218</td><td>1703184986000</td></tr><tr><td>dbfs:/FileStore/tables/csv_Write/</td><td>csv_Write/</td><td>0</td><td>0</td></tr><tr><td>dbfs:/FileStore/tables/emp_data-1.csv</td><td>emp_data-1.csv</td><td>230</td><td>1703056833000</td></tr><tr><td>dbfs:/FileStore/tables/emp_data.csv</td><td>emp_data.csv</td><td>230</td><td>1703056812000</td></tr><tr><td>dbfs:/FileStore/tables/file5.json</td><td>file5.json</td><td>669503</td><td>1703187988000</td></tr><tr><td>dbfs:/FileStore/tables/lec8.csv</td><td>lec8.csv</td><td>443</td><td>1704647534000</td></tr><tr><td>dbfs:/FileStore/tables/line_delimited_json.json</td><td>line_delimited_json.json</td><td>219</td><td>1703184986000</td></tr><tr><td>dbfs:/FileStore/tables/multi_line_correct.json</td><td>multi_line_correct.json</td><td>310</td><td>1703184986000</td></tr><tr><td>dbfs:/FileStore/tables/multi_line_incorrect.json</td><td>multi_line_incorrect.json</td><td>304</td><td>1703184986000</td></tr><tr><td>dbfs:/FileStore/tables/partition_by_address/</td><td>partition_by_address/</td><td>0</td><td>0</td></tr><tr><td>dbfs:/FileStore/tables/partition_by_address_gender/</td><td>partition_by_address_gender/</td><td>0</td><td>0</td></tr><tr><td>dbfs:/FileStore/tables/single_file_json_extrafields.json</td><td>single_file_json_extrafields.json</td><td>232</td><td>1703184987000</td></tr></tbody></table></div>"
      ]
     },
     "metadata": {
      "application/vnd.databricks.v1+output": {
       "addedWidgets": {},
       "aggData": [],
       "aggError": "",
       "aggOverflow": false,
       "aggSchema": [],
       "aggSeriesLimitReached": false,
       "aggType": "",
       "arguments": {},
       "columnCustomDisplayInfos": {},
       "data": [
        [
         "dbfs:/FileStore/tables/2011_summary.csv",
         "2011_summary.csv",
         7069,
         1702969429000
        ],
        [
         "dbfs:/FileStore/tables/bad_records/",
         "bad_records/",
         0,
         0
        ],
        [
         "dbfs:/FileStore/tables/bucket_by_id/",
         "bucket_by_id/",
         0,
         0
        ],
        [
         "dbfs:/FileStore/tables/corrupted_json.json",
         "corrupted_json.json",
         218,
         1703184986000
        ],
        [
         "dbfs:/FileStore/tables/csv_Write/",
         "csv_Write/",
         0,
         0
        ],
        [
         "dbfs:/FileStore/tables/emp_data-1.csv",
         "emp_data-1.csv",
         230,
         1703056833000
        ],
        [
         "dbfs:/FileStore/tables/emp_data.csv",
         "emp_data.csv",
         230,
         1703056812000
        ],
        [
         "dbfs:/FileStore/tables/file5.json",
         "file5.json",
         669503,
         1703187988000
        ],
        [
         "dbfs:/FileStore/tables/lec8.csv",
         "lec8.csv",
         443,
         1704647534000
        ],
        [
         "dbfs:/FileStore/tables/line_delimited_json.json",
         "line_delimited_json.json",
         219,
         1703184986000
        ],
        [
         "dbfs:/FileStore/tables/multi_line_correct.json",
         "multi_line_correct.json",
         310,
         1703184986000
        ],
        [
         "dbfs:/FileStore/tables/multi_line_incorrect.json",
         "multi_line_incorrect.json",
         304,
         1703184986000
        ],
        [
         "dbfs:/FileStore/tables/partition_by_address/",
         "partition_by_address/",
         0,
         0
        ],
        [
         "dbfs:/FileStore/tables/partition_by_address_gender/",
         "partition_by_address_gender/",
         0,
         0
        ],
        [
         "dbfs:/FileStore/tables/single_file_json_extrafields.json",
         "single_file_json_extrafields.json",
         232,
         1703184987000
        ]
       ],
       "datasetInfos": [],
       "dbfsResultPath": null,
       "isJsonSchema": true,
       "metadata": {
        "isDbfsCommandResult": false
       },
       "overflow": false,
       "plotOptions": {
        "customPlotOptions": {},
        "displayType": "table",
        "pivotAggregation": null,
        "pivotColumns": null,
        "xColumns": null,
        "yColumns": null
       },
       "removedWidgets": [],
       "schema": [
        {
         "metadata": "{}",
         "name": "path",
         "type": "\"string\""
        },
        {
         "metadata": "{}",
         "name": "name",
         "type": "\"string\""
        },
        {
         "metadata": "{}",
         "name": "size",
         "type": "\"long\""
        },
        {
         "metadata": "{}",
         "name": "modificationTime",
         "type": "\"long\""
        }
       ],
       "type": "table"
      }
     },
     "output_type": "display_data"
    }
   ],
   "source": [
    "%fs\n",
    "ls FileStore/tables"
   ]
  },
  {
   "cell_type": "code",
   "execution_count": 0,
   "metadata": {
    "application/vnd.databricks.v1+cell": {
     "cellMetadata": {
      "byteLimit": 2048000,
      "rowLimit": 10000
     },
     "inputWidgets": {},
     "nuid": "01322b2b-186c-4b96-8ad5-438eaa905c21",
     "showTitle": false,
     "title": ""
    }
   },
   "outputs": [
    {
     "output_type": "stream",
     "name": "stdout",
     "output_type": "stream",
     "text": [
      "+--------------------+-------------------+-----+\n|   DEST_COUNTRY_NAME|ORIGIN_COUNTRY_NAME|count|\n+--------------------+-------------------+-----+\n|       United States|       Saint Martin|    2|\n|       United States|             Guinea|    2|\n|       United States|            Croatia|    1|\n|       United States|            Romania|    3|\n|       United States|            Ireland|  268|\n|               Egypt|      United States|   13|\n|       United States|              India|   76|\n|       United States|          Singapore|   24|\n|       United States|            Grenada|   59|\n|          Costa Rica|      United States|  494|\n|             Senegal|      United States|   29|\n|              Guyana|      United States|   26|\n|       United States|   Marshall Islands|   49|\n|       United States|       Sint Maarten|  223|\n|               Malta|      United States|    1|\n|             Bolivia|      United States|   61|\n|            Anguilla|      United States|   21|\n|       United States|           Paraguay|    3|\n|       United States|          Gibraltar|    1|\n|Turks and Caicos ...|      United States|  163|\n+--------------------+-------------------+-----+\nonly showing top 20 rows\n\n"
     ]
    }
   ],
   "source": [
    "flight_df = spark.read.format('csv')\\\n",
    "    .option('header','true')\\\n",
    "    .option('inferschema','true')\\\n",
    "    .load('/FileStore/tables/2011_summary.csv')\n",
    "flight_df.show()"
   ]
  },
  {
   "cell_type": "code",
   "execution_count": 0,
   "metadata": {
    "application/vnd.databricks.v1+cell": {
     "cellMetadata": {
      "byteLimit": 2048000,
      "rowLimit": 10000
     },
     "inputWidgets": {},
     "nuid": "fb272e8f-0f5e-491c-8a18-c13ac52536e2",
     "showTitle": false,
     "title": ""
    }
   },
   "outputs": [
    {
     "output_type": "stream",
     "name": "stdout",
     "output_type": "stream",
     "text": [
      "Out[55]: ['DEST_COUNTRY_NAME', 'ORIGIN_COUNTRY_NAME', 'count']"
     ]
    }
   ],
   "source": [
    "flight_df.columns"
   ]
  },
  {
   "cell_type": "code",
   "execution_count": 0,
   "metadata": {
    "application/vnd.databricks.v1+cell": {
     "cellMetadata": {
      "byteLimit": 2048000,
      "rowLimit": 10000
     },
     "inputWidgets": {},
     "nuid": "262c73a2-257e-4aa8-acac-c2a90205362d",
     "showTitle": false,
     "title": ""
    }
   },
   "outputs": [
    {
     "output_type": "stream",
     "name": "stdout",
     "output_type": "stream",
     "text": [
      "Out[56]: 255"
     ]
    }
   ],
   "source": [
    "flight_df.count() #number of records"
   ]
  },
  {
   "cell_type": "code",
   "execution_count": 0,
   "metadata": {
    "application/vnd.databricks.v1+cell": {
     "cellMetadata": {
      "byteLimit": 2048000,
      "rowLimit": 10000
     },
     "inputWidgets": {},
     "nuid": "95e91a30-bdbd-4a33-8fb4-c20cd9e9616a",
     "showTitle": false,
     "title": ""
    }
   },
   "outputs": [
    {
     "output_type": "stream",
     "name": "stdout",
     "output_type": "stream",
     "text": [
      "Out[57]: 1"
     ]
    }
   ],
   "source": [
    "flight_df.rdd.getNumPartitions() #get no. of partition by converting to RDD first."
   ]
  },
  {
   "cell_type": "code",
   "execution_count": 0,
   "metadata": {
    "application/vnd.databricks.v1+cell": {
     "cellMetadata": {
      "byteLimit": 2048000,
      "rowLimit": 10000
     },
     "inputWidgets": {},
     "nuid": "103d300f-6a8a-47b8-9bd9-83e5aec7c2f5",
     "showTitle": false,
     "title": ""
    }
   },
   "outputs": [],
   "source": [
    "partitioned_flight_df = flight_df.repartition(4) #to see the data we need to save it first. But count of records can be seen by the below function."
   ]
  },
  {
   "cell_type": "code",
   "execution_count": 0,
   "metadata": {
    "application/vnd.databricks.v1+cell": {
     "cellMetadata": {
      "byteLimit": 2048000,
      "rowLimit": 10000
     },
     "inputWidgets": {},
     "nuid": "3489f473-f0d1-4ab8-ba23-076a6dc467aa",
     "showTitle": false,
     "title": ""
    }
   },
   "outputs": [
    {
     "output_type": "stream",
     "name": "stdout",
     "output_type": "stream",
     "text": [
      "+-----------+-----+\n|partitionId|count|\n+-----------+-----+\n|          0|   63|\n|          1|   64|\n|          2|   64|\n|          3|   64|\n+-----------+-----+\n\n"
     ]
    }
   ],
   "source": [
    "partitioned_flight_df.withColumn('partitionId',spark_partition_id()).groupBy('partitionId').count().show()"
   ]
  },
  {
   "cell_type": "markdown",
   "metadata": {
    "application/vnd.databricks.v1+cell": {
     "cellMetadata": {
      "byteLimit": 2048000,
      "rowLimit": 10000
     },
     "inputWidgets": {},
     "nuid": "938dd3f7-b721-4a3f-b3cc-d552557a88a2",
     "showTitle": false,
     "title": ""
    }
   },
   "source": [
    "##### above data is evenly distributed.\n",
    "###below is repartition another option - 'Partitioning on column.'"
   ]
  },
  {
   "cell_type": "code",
   "execution_count": 0,
   "metadata": {
    "application/vnd.databricks.v1+cell": {
     "cellMetadata": {
      "byteLimit": 2048000,
      "rowLimit": 10000
     },
     "inputWidgets": {},
     "nuid": "98b965b7-6721-40b5-9479-2e4405351ccc",
     "showTitle": false,
     "title": ""
    }
   },
   "outputs": [],
   "source": [
    "partitioned_on_column = flight_df.repartition(300, 'ORIGIN_COUNTRY_NAME')  #here optional to give number of partitions"
   ]
  },
  {
   "cell_type": "code",
   "execution_count": 0,
   "metadata": {
    "application/vnd.databricks.v1+cell": {
     "cellMetadata": {
      "byteLimit": 2048000,
      "rowLimit": 10000
     },
     "inputWidgets": {},
     "nuid": "adca5fe9-60a2-4e02-9191-8677eb531edb",
     "showTitle": false,
     "title": ""
    }
   },
   "outputs": [
    {
     "output_type": "stream",
     "name": "stdout",
     "output_type": "stream",
     "text": [
      "Out[61]: 300"
     ]
    }
   ],
   "source": [
    "partitioned_on_column.rdd.getNumPartitions()\n",
    "#although, it has 255 records and we are giving no. of partitions as 300. So, it will keep null records in few partitions"
   ]
  },
  {
   "cell_type": "code",
   "execution_count": 0,
   "metadata": {
    "application/vnd.databricks.v1+cell": {
     "cellMetadata": {
      "byteLimit": 2048000,
      "rowLimit": 10000
     },
     "inputWidgets": {},
     "nuid": "c32cd343-4109-44f3-a36b-bb84c468ffbf",
     "showTitle": false,
     "title": ""
    }
   },
   "outputs": [
    {
     "output_type": "display_data",
     "data": {
      "text/html": [
       "<style scoped>\n",
       "  .ansiout {\n",
       "    display: block;\n",
       "    unicode-bidi: embed;\n",
       "    white-space: pre-wrap;\n",
       "    word-wrap: break-word;\n",
       "    word-break: break-all;\n",
       "    font-family: \"Menlo\", \"Monaco\", \"Consolas\", \"Ubuntu Mono\", \"Source Code Pro\", monospace;\n",
       "    font-size: 13px;\n",
       "    color: #555;\n",
       "    margin-left: 4px;\n",
       "    line-height: 19px;\n",
       "  }\n",
       "</style>"
      ]
     },
     "metadata": {
      "application/vnd.databricks.v1+output": {
       "arguments": {},
       "data": "",
       "errorSummary": "Cancelled",
       "errorTraceType": "html",
       "metadata": {},
       "type": "ipynbError"
      }
     },
     "output_type": "display_data"
    }
   ],
   "source": [
    "partitioned_on_column.withColumn('partitionId',spark_partition_id()).groupBy('partitionId').count().show(300)"
   ]
  },
  {
   "cell_type": "markdown",
   "metadata": {
    "application/vnd.databricks.v1+cell": {
     "cellMetadata": {
      "byteLimit": 2048000,
      "rowLimit": 10000
     },
     "inputWidgets": {},
     "nuid": "e6fb4675-bd2d-485d-9328-838d8e3485c8",
     "showTitle": false,
     "title": ""
    }
   },
   "source": [
    "Coalesce"
   ]
  },
  {
   "cell_type": "code",
   "execution_count": 0,
   "metadata": {
    "application/vnd.databricks.v1+cell": {
     "cellMetadata": {
      "byteLimit": 2048000,
      "rowLimit": 10000
     },
     "inputWidgets": {},
     "nuid": "24477d9d-e119-4dda-9906-ca498fe580c7",
     "showTitle": false,
     "title": ""
    }
   },
   "outputs": [
    {
     "output_type": "display_data",
     "data": {
      "text/html": [
       "<style scoped>\n",
       "  .ansiout {\n",
       "    display: block;\n",
       "    unicode-bidi: embed;\n",
       "    white-space: pre-wrap;\n",
       "    word-wrap: break-word;\n",
       "    word-break: break-all;\n",
       "    font-family: \"Menlo\", \"Monaco\", \"Consolas\", \"Ubuntu Mono\", \"Source Code Pro\", monospace;\n",
       "    font-size: 13px;\n",
       "    color: #555;\n",
       "    margin-left: 4px;\n",
       "    line-height: 19px;\n",
       "  }\n",
       "</style>"
      ]
     },
     "metadata": {
      "application/vnd.databricks.v1+output": {
       "arguments": {},
       "data": "",
       "errorSummary": "Cancelled",
       "errorTraceType": "html",
       "metadata": {},
       "type": "ipynbError"
      }
     },
     "output_type": "display_data"
    }
   ],
   "source": [
    "flight_df.show(truncate=False)"
   ]
  },
  {
   "cell_type": "code",
   "execution_count": 0,
   "metadata": {
    "application/vnd.databricks.v1+cell": {
     "cellMetadata": {
      "byteLimit": 2048000,
      "rowLimit": 10000
     },
     "inputWidgets": {},
     "nuid": "4d980528-fc84-4bc7-8109-8642bb14e993",
     "showTitle": false,
     "title": ""
    }
   },
   "outputs": [
    {
     "output_type": "display_data",
     "data": {
      "text/html": [
       "<style scoped>\n",
       "  .ansiout {\n",
       "    display: block;\n",
       "    unicode-bidi: embed;\n",
       "    white-space: pre-wrap;\n",
       "    word-wrap: break-word;\n",
       "    word-break: break-all;\n",
       "    font-family: \"Menlo\", \"Monaco\", \"Consolas\", \"Ubuntu Mono\", \"Source Code Pro\", monospace;\n",
       "    font-size: 13px;\n",
       "    color: #555;\n",
       "    margin-left: 4px;\n",
       "    line-height: 19px;\n",
       "  }\n",
       "</style>"
      ]
     },
     "metadata": {
      "application/vnd.databricks.v1+output": {
       "arguments": {},
       "data": "",
       "errorSummary": "Cancelled",
       "errorTraceType": "html",
       "metadata": {},
       "type": "ipynbError"
      }
     },
     "output_type": "display_data"
    }
   ],
   "source": [
    "coalesce_flight_df = flight_df.repartition(8)"
   ]
  },
  {
   "cell_type": "code",
   "execution_count": 0,
   "metadata": {
    "application/vnd.databricks.v1+cell": {
     "cellMetadata": {
      "byteLimit": 2048000,
      "rowLimit": 10000
     },
     "inputWidgets": {},
     "nuid": "a06389bd-d35e-4a75-b331-8b66b1d59ff2",
     "showTitle": false,
     "title": ""
    }
   },
   "outputs": [
    {
     "output_type": "display_data",
     "data": {
      "text/html": [
       "<style scoped>\n",
       "  .ansiout {\n",
       "    display: block;\n",
       "    unicode-bidi: embed;\n",
       "    white-space: pre-wrap;\n",
       "    word-wrap: break-word;\n",
       "    word-break: break-all;\n",
       "    font-family: \"Menlo\", \"Monaco\", \"Consolas\", \"Ubuntu Mono\", \"Source Code Pro\", monospace;\n",
       "    font-size: 13px;\n",
       "    color: #555;\n",
       "    margin-left: 4px;\n",
       "    line-height: 19px;\n",
       "  }\n",
       "</style>"
      ]
     },
     "metadata": {
      "application/vnd.databricks.v1+output": {
       "arguments": {},
       "data": "",
       "errorSummary": "Cancelled",
       "errorTraceType": "html",
       "metadata": {},
       "type": "ipynbError"
      }
     },
     "output_type": "display_data"
    }
   ],
   "source": [
    "coalesce_flight_df.withColumn('partitionId',spark_partition_id()).groupBy('partitionId').count().show()"
   ]
  },
  {
   "cell_type": "code",
   "execution_count": 0,
   "metadata": {
    "application/vnd.databricks.v1+cell": {
     "cellMetadata": {
      "byteLimit": 2048000,
      "rowLimit": 10000
     },
     "inputWidgets": {},
     "nuid": "7dc66568-4571-4a80-ab79-beb28c10bfdc",
     "showTitle": false,
     "title": ""
    }
   },
   "outputs": [
    {
     "output_type": "display_data",
     "data": {
      "text/html": [
       "<style scoped>\n",
       "  .ansiout {\n",
       "    display: block;\n",
       "    unicode-bidi: embed;\n",
       "    white-space: pre-wrap;\n",
       "    word-wrap: break-word;\n",
       "    word-break: break-all;\n",
       "    font-family: \"Menlo\", \"Monaco\", \"Consolas\", \"Ubuntu Mono\", \"Source Code Pro\", monospace;\n",
       "    font-size: 13px;\n",
       "    color: #555;\n",
       "    margin-left: 4px;\n",
       "    line-height: 19px;\n",
       "  }\n",
       "</style>"
      ]
     },
     "metadata": {
      "application/vnd.databricks.v1+output": {
       "arguments": {},
       "data": "",
       "errorSummary": "Cancelled",
       "errorTraceType": "html",
       "metadata": {},
       "type": "ipynbError"
      }
     },
     "output_type": "display_data"
    }
   ],
   "source": [
    "three_coalesce_df = coalesce_flight_df.coalesce(3)"
   ]
  },
  {
   "cell_type": "code",
   "execution_count": 0,
   "metadata": {
    "application/vnd.databricks.v1+cell": {
     "cellMetadata": {
      "byteLimit": 2048000,
      "rowLimit": 10000
     },
     "inputWidgets": {},
     "nuid": "3fc8d8ff-c470-418c-be91-0c4c8d66c4eb",
     "showTitle": false,
     "title": ""
    }
   },
   "outputs": [
    {
     "output_type": "display_data",
     "data": {
      "text/html": [
       "<style scoped>\n",
       "  .ansiout {\n",
       "    display: block;\n",
       "    unicode-bidi: embed;\n",
       "    white-space: pre-wrap;\n",
       "    word-wrap: break-word;\n",
       "    word-break: break-all;\n",
       "    font-family: \"Menlo\", \"Monaco\", \"Consolas\", \"Ubuntu Mono\", \"Source Code Pro\", monospace;\n",
       "    font-size: 13px;\n",
       "    color: #555;\n",
       "    margin-left: 4px;\n",
       "    line-height: 19px;\n",
       "  }\n",
       "</style>"
      ]
     },
     "metadata": {
      "application/vnd.databricks.v1+output": {
       "arguments": {},
       "data": "",
       "errorSummary": "Cancelled",
       "errorTraceType": "html",
       "metadata": {},
       "type": "ipynbError"
      }
     },
     "output_type": "display_data"
    }
   ],
   "source": [
    "three_coalesce_df.withColumn('partitionId',spark_partition_id()).groupBy('partitionId').count().show()"
   ]
  },
  {
   "cell_type": "code",
   "execution_count": 0,
   "metadata": {
    "application/vnd.databricks.v1+cell": {
     "cellMetadata": {
      "byteLimit": 2048000,
      "rowLimit": 10000
     },
     "inputWidgets": {},
     "nuid": "c671ffde-7ad2-4034-b3fa-b6e4ca994543",
     "showTitle": false,
     "title": ""
    }
   },
   "outputs": [
    {
     "output_type": "display_data",
     "data": {
      "text/html": [
       "<style scoped>\n",
       "  .ansiout {\n",
       "    display: block;\n",
       "    unicode-bidi: embed;\n",
       "    white-space: pre-wrap;\n",
       "    word-wrap: break-word;\n",
       "    word-break: break-all;\n",
       "    font-family: \"Menlo\", \"Monaco\", \"Consolas\", \"Ubuntu Mono\", \"Source Code Pro\", monospace;\n",
       "    font-size: 13px;\n",
       "    color: #555;\n",
       "    margin-left: 4px;\n",
       "    line-height: 19px;\n",
       "  }\n",
       "</style>"
      ]
     },
     "metadata": {
      "application/vnd.databricks.v1+output": {
       "arguments": {},
       "data": "",
       "errorSummary": "Cancelled",
       "errorTraceType": "html",
       "metadata": {},
       "type": "ipynbError"
      }
     },
     "output_type": "display_data"
    }
   ],
   "source": [
    "three_repartition_df = three_coalesce_df.repartition(3)"
   ]
  },
  {
   "cell_type": "code",
   "execution_count": 0,
   "metadata": {
    "application/vnd.databricks.v1+cell": {
     "cellMetadata": {
      "byteLimit": 2048000,
      "rowLimit": 10000
     },
     "inputWidgets": {},
     "nuid": "81527535-02cb-4dc9-9e9d-01cbdc97f2aa",
     "showTitle": false,
     "title": ""
    }
   },
   "outputs": [
    {
     "output_type": "display_data",
     "data": {
      "text/html": [
       "<style scoped>\n",
       "  .ansiout {\n",
       "    display: block;\n",
       "    unicode-bidi: embed;\n",
       "    white-space: pre-wrap;\n",
       "    word-wrap: break-word;\n",
       "    word-break: break-all;\n",
       "    font-family: \"Menlo\", \"Monaco\", \"Consolas\", \"Ubuntu Mono\", \"Source Code Pro\", monospace;\n",
       "    font-size: 13px;\n",
       "    color: #555;\n",
       "    margin-left: 4px;\n",
       "    line-height: 19px;\n",
       "  }\n",
       "</style>"
      ]
     },
     "metadata": {
      "application/vnd.databricks.v1+output": {
       "arguments": {},
       "data": "",
       "errorSummary": "Cancelled",
       "errorTraceType": "html",
       "metadata": {},
       "type": "ipynbError"
      }
     },
     "output_type": "display_data"
    }
   ],
   "source": [
    "three_repartition_df.withColumn('partitionId',spark_partition_id()).groupBy('partitionId').count().show()"
   ]
  },
  {
   "cell_type": "markdown",
   "metadata": {
    "application/vnd.databricks.v1+cell": {
     "cellMetadata": {
      "byteLimit": 2048000,
      "rowLimit": 10000
     },
     "inputWidgets": {},
     "nuid": "f526572f-c30c-4b8b-9944-cd9352eefb03",
     "showTitle": false,
     "title": ""
    }
   },
   "source": [
    "So coalesce gives undistributed data and repartition gives evenly distributed data."
   ]
  },
  {
   "cell_type": "code",
   "execution_count": 0,
   "metadata": {
    "application/vnd.databricks.v1+cell": {
     "cellMetadata": {
      "byteLimit": 2048000,
      "rowLimit": 10000
     },
     "inputWidgets": {},
     "nuid": "18ecee04-092b-4dc6-b217-3904da4ecad5",
     "showTitle": false,
     "title": ""
    }
   },
   "outputs": [
    {
     "output_type": "display_data",
     "data": {
      "text/html": [
       "<style scoped>\n",
       "  .ansiout {\n",
       "    display: block;\n",
       "    unicode-bidi: embed;\n",
       "    white-space: pre-wrap;\n",
       "    word-wrap: break-word;\n",
       "    word-break: break-all;\n",
       "    font-family: \"Menlo\", \"Monaco\", \"Consolas\", \"Ubuntu Mono\", \"Source Code Pro\", monospace;\n",
       "    font-size: 13px;\n",
       "    color: #555;\n",
       "    margin-left: 4px;\n",
       "    line-height: 19px;\n",
       "  }\n",
       "</style>"
      ]
     },
     "metadata": {
      "application/vnd.databricks.v1+output": {
       "arguments": {},
       "data": "",
       "errorSummary": "Cancelled",
       "errorTraceType": "html",
       "metadata": {},
       "type": "ipynbError"
      }
     },
     "output_type": "display_data"
    }
   ],
   "source": [
    "coalesce_flight_df.rdd.getNumPartitions()"
   ]
  },
  {
   "cell_type": "code",
   "execution_count": 0,
   "metadata": {
    "application/vnd.databricks.v1+cell": {
     "cellMetadata": {
      "byteLimit": 2048000,
      "rowLimit": 10000
     },
     "inputWidgets": {},
     "nuid": "c9f279a6-9ded-4a49-b1ad-58f0aa7dd74b",
     "showTitle": false,
     "title": ""
    }
   },
   "outputs": [
    {
     "output_type": "stream",
     "name": "stdout",
     "output_type": "stream",
     "text": [
      "Out[63]: 8"
     ]
    }
   ],
   "source": [
    "coalesce_flight_df.coalesce(10).rdd.getNumPartitions()  #does not increase partition count when coalesce is done, can only descrease as we merge the data. "
   ]
  },
  {
   "cell_type": "code",
   "execution_count": 0,
   "metadata": {
    "application/vnd.databricks.v1+cell": {
     "cellMetadata": {
      "byteLimit": 2048000,
      "rowLimit": 10000
     },
     "inputWidgets": {},
     "nuid": "77fafe87-6115-4dbb-bc73-f702ae613c72",
     "showTitle": false,
     "title": ""
    }
   },
   "outputs": [],
   "source": [
    "\n",
    "data = [( 1,   1),   \n",
    "( 2,   1),   \n",
    "( 3,   1),  \n",
    "( 4,   2),   \n",
    "( 5,   1),   \n",
    "( 6,   2),   \n",
    "( 7,   2),]   "
   ]
  },
  {
   "cell_type": "code",
   "execution_count": 0,
   "metadata": {
    "application/vnd.databricks.v1+cell": {
     "cellMetadata": {
      "byteLimit": 2048000,
      "rowLimit": 10000
     },
     "inputWidgets": {},
     "nuid": "6ff8e112-7da8-4506-beda-bd8c97d82433",
     "showTitle": false,
     "title": ""
    }
   },
   "outputs": [
    {
     "output_type": "stream",
     "name": "stdout",
     "output_type": "stream",
     "text": [
      "root\n |-- DEST_COUNTRY_NAME: string (nullable = true)\n |-- ORIGIN_COUNTRY_NAME: string (nullable = true)\n |-- count: integer (nullable = true)\n\nOut[76]: ['DEST_COUNTRY_NAME', 'ORIGIN_COUNTRY_NAME', 'count']"
     ]
    }
   ],
   "source": [
    "flight_df.printSchema()\n",
    "flight_df.columns"
   ]
  },
  {
   "cell_type": "code",
   "execution_count": 0,
   "metadata": {
    "application/vnd.databricks.v1+cell": {
     "cellMetadata": {},
     "inputWidgets": {},
     "nuid": "e7cbad6d-b768-4ecc-9fd7-db01f917caee",
     "showTitle": false,
     "title": ""
    }
   },
   "outputs": [],
   "source": []
  }
 ],
 "metadata": {
  "application/vnd.databricks.v1+notebook": {
   "dashboards": [],
   "language": "python",
   "notebookMetadata": {
    "mostRecentlyExecutedCommandWithImplicitDF": {
     "commandId": 2670140296865480,
     "dataframes": [
      "_sqldf"
     ]
    },
    "pythonIndentUnit": 4
   },
   "notebookName": "Spark - repartition_vs_coalesce",
   "widgets": {}
  }
 },
 "nbformat": 4,
 "nbformat_minor": 0
}
